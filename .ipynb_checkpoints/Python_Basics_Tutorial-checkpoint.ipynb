{
 "cells": [
  {
   "cell_type": "markdown",
   "id": "e935a6b5",
   "metadata": {},
   "source": [
    "## Python Basic's"
   ]
  },
  {
   "cell_type": "markdown",
   "id": "751f5586",
   "metadata": {},
   "source": [
    "Here are some extra resources for learning Python:\n",
    "\n",
    "**Getting Started with Python**:\n",
    "\n",
    "* https://www.codecademy.com/learn/python\n",
    "* http://docs.python-guide.org/en/latest/intro/learning/\n",
    "* https://learnpythonthehardway.org/book/\n",
    "* https://www.codementor.io/learn-python-online\n",
    "\n",
    "**Learning Python in Notebooks**:\n",
    "\n",
    "* http://mbakker7.github.io/exploratory_computing_with_python/\n",
    "This is handy to always have available for reference:\n",
    "\n",
    "**Python Reference**:\n",
    "\n",
    "* https://docs.python.org/3/reference/\n",
    "\n",
    "Shoutout to Michigan Data Science Team (MDST) for creating most of this code\n",
    "Specifically to Casper Guo, Weile Zheng"
   ]
  },
  {
   "cell_type": "markdown",
   "id": "54a4cd31",
   "metadata": {},
   "source": [
    "## How to use Jupyter Notebook"
   ]
  },
  {
   "cell_type": "markdown",
   "id": "58f752f5",
   "metadata": {},
   "source": [
    "Jupyter Notebook is a tool that lets you develop documents that combine codes, visualizations, and explanatory texts.\n",
    "\n",
    "For our purposes we are going to teach you the basic's of Jupyter Notebook in order to interact with this tutorial. To learn more about it I highly recommend learning from Jupyter Notebook site (https://docs.jupyter.org/en/latest/) or from MDST (https://mdst-club.notion.site/MDST-Onboarding-3d1b3591dd224115a548325a7d66a723)."
   ]
  },
  {
   "cell_type": "code",
   "execution_count": 1,
   "id": "042896fb",
   "metadata": {},
   "outputs": [],
   "source": [
    "# Jupyter has code cells for writing and running Python codes. \n",
    "# What's in this cell are not Python codes; they are comments. You can start comments by putting an asterisk at the beginning of lines.\n",
    "# Comments are for other humans only. The computer will ignore them when executing your programs.\n",
    "# Pro Tip: You can comment and uncomment many lines at once by highlighting them and pressing CTRL + / or CMD + /"
   ]
  },
  {
   "cell_type": "markdown",
   "id": "5687de82",
   "metadata": {},
   "source": [
    "You can run a cell by pressing `CTRL + ENTER` or `SHIFT + ENTER`. Running a cell will either render the contained Markdown to nice-looking text or execute the contained codes.\n",
    "\n",
    "If you are new to Python, you should run every cell in this notebook. If you already have some familarity, you can use the Table of Contents to skip ahead."
   ]
  },
  {
   "cell_type": "markdown",
   "id": "53e76ee7",
   "metadata": {},
   "source": [
    "# Table of Contents\n",
    "\n",
    "- [1. Data Types](#1.-Data-Types)\n",
    "    - [1.0 Your First Python Program](#1.0-Your-First-Python-Program)\n",
    "    - [1.1 Data Type](#1.1-Data-Type)\n",
    "    - [1.2 Container (list, tuple, dictionary, set)](#1.2-Container)\n",
    "- [2. Control Flow](#2.-Control-Flow)\n",
    "- [3. Iterating](#3.-Iterating)\n",
    "    - [3.0 For Loops](#3.0-For-Loops)\n",
    "- [4. Functions](#4.-Functions)\n",
    "    - [4.0 Import & Library](#4.0-Import-&-Library)\n",
    "    - [4.1 Built-in Function](#4.1-Built-in-Function)\n",
    "    - [4.2 Custom Function](#4.2-Custom-Function)\n",
    "    - [4.3 Lambda Function](#4.3-Lambda-Function)\n",
    "    - [4.4 Type Hinting](#4.4-Type-Hinting)\n",
    "- [5. Numpy](#5.-Numpy)\n",
    "    - [5.0 Array](#5.0-Array)\n",
    "    - [5.1 Math](#5.1-Math)\n",
    "- [6. Python Classes and Objects](#6.-Python-Classes-and-Objects)\n",
    "    - [6.0 Create a Class](#6.0-Create-a-Class)\n",
    "    - [6.1 Create a Object](#6.1-Create-a-Object)\n",
    "    - [6.2 The init() Function](#6.2-The-init()-Function)\n",
    "    - [6.3 Object Methods](#6.3-Object-Methods)\n",
    "    - [6.4 The self Parameter](#6.4-The-self-Parameter)\n",
    "    - [6.5 The Modify and Delete](#6.5-Modify-and-Delete)\n",
    "    - [6.6 The pass Statement](#6.6-The-pass-Statement)\n",
    "\n",
    "The checkpoint proceeds in the same order so you can follow along."
   ]
  },
  {
   "cell_type": "markdown",
   "id": "fde5e992",
   "metadata": {},
   "source": [
    "## 1. Data Types"
   ]
  },
  {
   "cell_type": "markdown",
   "id": "b29b84f1",
   "metadata": {},
   "source": [
    "### 1.0 Your First Python Program"
   ]
  },
  {
   "cell_type": "code",
   "execution_count": null,
   "id": "5042aa6b",
   "metadata": {},
   "outputs": [],
   "source": [
    "# Tradition demands that we do this\n",
    "# Try running this cell\n",
    "\n",
    "print(\"Hello World\")"
   ]
  },
  {
   "cell_type": "code",
   "execution_count": null,
   "id": "b0ae51bc",
   "metadata": {},
   "outputs": [],
   "source": [
    "# Notebooks will automatically print the output of the last line of each cell when they are ran\n",
    "\n",
    "413 * 5791"
   ]
  },
  {
   "cell_type": "markdown",
   "id": "0b6ebbb9",
   "metadata": {},
   "source": [
    "### 1.1 Data Type"
   ]
  },
  {
   "cell_type": "markdown",
   "id": "1794a7ef",
   "metadata": {},
   "source": [
    "#### 1.1.0 Ints and Floats"
   ]
  },
  {
   "cell_type": "markdown",
   "id": "9f0d761e",
   "metadata": {},
   "source": [
    "Python distinguishes between integers and decimal numbers (floats)."
   ]
  },
  {
   "cell_type": "code",
   "execution_count": null,
   "id": "aab20872",
   "metadata": {},
   "outputs": [],
   "source": [
    "type(0)"
   ]
  },
  {
   "cell_type": "code",
   "execution_count": null,
   "id": "f00e2b0f",
   "metadata": {},
   "outputs": [],
   "source": [
    "type(0.0)"
   ]
  },
  {
   "cell_type": "markdown",
   "id": "65874d6c",
   "metadata": {},
   "source": [
    "Basic arithmetic is straight forward in Python."
   ]
  },
  {
   "cell_type": "code",
   "execution_count": null,
   "id": "5b0ab511",
   "metadata": {},
   "outputs": [],
   "source": [
    "3 + 2"
   ]
  },
  {
   "cell_type": "code",
   "execution_count": null,
   "id": "46752630",
   "metadata": {},
   "outputs": [],
   "source": [
    "1.1 - 9.0"
   ]
  },
  {
   "cell_type": "code",
   "execution_count": null,
   "id": "4bd0fbeb",
   "metadata": {},
   "outputs": [],
   "source": [
    "3 * 5"
   ]
  },
  {
   "cell_type": "code",
   "execution_count": null,
   "id": "5d6c6fe9",
   "metadata": {},
   "outputs": [],
   "source": [
    "# When two numbers, regardless of whether they are int or float, are divided, Python returns the result as if the operation is done on a calculator\n",
    "# This is known as float division\n",
    "print(1/2)\n",
    "print(1.5/2.4)"
   ]
  },
  {
   "cell_type": "code",
   "execution_count": null,
   "id": "f831ad0b",
   "metadata": {},
   "outputs": [],
   "source": [
    "# There is also integer division that can be done between two int\n",
    "# In Python, the behavior is always to round the float divison result down to the nearest integer\n",
    "14 // 5"
   ]
  },
  {
   "cell_type": "code",
   "execution_count": null,
   "id": "bac452d0",
   "metadata": {},
   "outputs": [],
   "source": [
    "# You can also find the remainders of divisions\n",
    "# Also known as taking the modulus\n",
    "13 % 5"
   ]
  },
  {
   "cell_type": "code",
   "execution_count": null,
   "id": "3688544e",
   "metadata": {},
   "outputs": [],
   "source": [
    "# exponent\n",
    "10 ** 3"
   ]
  },
  {
   "cell_type": "markdown",
   "id": "6669df65",
   "metadata": {},
   "source": [
    "ints and floats are mostly interchangeable and can also be cast (i.e. converted) to the other type."
   ]
  },
  {
   "cell_type": "code",
   "execution_count": null,
   "id": "72ea877d",
   "metadata": {},
   "outputs": [],
   "source": [
    "float(3)"
   ]
  },
  {
   "cell_type": "code",
   "execution_count": null,
   "id": "7c25e566",
   "metadata": {},
   "outputs": [],
   "source": [
    "int(2.9)"
   ]
  },
  {
   "cell_type": "markdown",
   "id": "64267ef1",
   "metadata": {},
   "source": [
    "#### 1.1.1 Strings"
   ]
  },
  {
   "cell_type": "markdown",
   "id": "a0566749",
   "metadata": {},
   "source": [
    "Strings are Python's internal representation of texts."
   ]
  },
  {
   "cell_type": "code",
   "execution_count": null,
   "id": "57d6711a",
   "metadata": {},
   "outputs": [],
   "source": [
    "# They can either be surrounded by double quotes...\n",
    "type(\"apple\")"
   ]
  },
  {
   "cell_type": "code",
   "execution_count": null,
   "id": "d596b9cf",
   "metadata": {},
   "outputs": [],
   "source": [
    "# or single quotes\n",
    "type('apple')"
   ]
  },
  {
   "cell_type": "code",
   "execution_count": null,
   "id": "57688cb8",
   "metadata": {},
   "outputs": [],
   "source": [
    "# You can piece two strings together (aka concatenate) using the plus sign\n",
    "\"Hello\" + \" World\""
   ]
  },
  {
   "cell_type": "markdown",
   "id": "610a824a",
   "metadata": {},
   "source": [
    "Python provides many functions for manipulating strings. "
   ]
  },
  {
   "cell_type": "code",
   "execution_count": null,
   "id": "c4449eb7",
   "metadata": {},
   "outputs": [],
   "source": [
    "# Capitalize\n",
    "\"like so\".upper()"
   ]
  },
  {
   "cell_type": "code",
   "execution_count": null,
   "id": "825ad38f",
   "metadata": {},
   "outputs": [],
   "source": [
    "# Lowercase\n",
    "\"LIKE SO\".lower()"
   ]
  },
  {
   "cell_type": "code",
   "execution_count": null,
   "id": "ab60cf28",
   "metadata": {},
   "outputs": [],
   "source": [
    "# Title case\n",
    "\"like so\".title()"
   ]
  },
  {
   "cell_type": "code",
   "execution_count": null,
   "id": "88b22dfc",
   "metadata": {},
   "outputs": [],
   "source": [
    "# Count the number of characters, including whitespace\n",
    "len(\"like so\")"
   ]
  },
  {
   "cell_type": "code",
   "execution_count": null,
   "id": "bd51a6ee",
   "metadata": {},
   "outputs": [],
   "source": [
    "# Remove spaces on either side of a string\n",
    "\"    like so  \".strip()"
   ]
  },
  {
   "cell_type": "code",
   "execution_count": null,
   "id": "2b858959",
   "metadata": {},
   "outputs": [],
   "source": [
    "# Split a string into a list of words \n",
    "\"like so\".split()"
   ]
  },
  {
   "cell_type": "markdown",
   "id": "ca382ca7",
   "metadata": {},
   "source": [
    "You can find a comprehensive list of these functions [here](https://www.w3schools.com/python/python_ref_string.asp)."
   ]
  },
  {
   "cell_type": "markdown",
   "id": "c896c742",
   "metadata": {},
   "source": [
    "#### 1.1.2 Boolean Values"
   ]
  },
  {
   "cell_type": "markdown",
   "id": "0fbb90dc",
   "metadata": {},
   "source": [
    "There are two boolean values in Python `True` and `False`. They are case sensitive and must be typed exactly as such.\n",
    "\n",
    "Now time for some basic [boolean algebra](https://en.wikipedia.org/wiki/Boolean_algebra)."
   ]
  },
  {
   "cell_type": "code",
   "execution_count": null,
   "id": "cf7d4961",
   "metadata": {},
   "outputs": [],
   "source": [
    "print(not True)\n",
    "print(not False)"
   ]
  },
  {
   "cell_type": "code",
   "execution_count": null,
   "id": "e6552ded",
   "metadata": {},
   "outputs": [],
   "source": [
    "# and, or conjunction, only evaluates to True when every boolean value involved is True\n",
    "print(True and True)\n",
    "print(True and False)\n",
    "print(False and False)"
   ]
  },
  {
   "cell_type": "code",
   "execution_count": null,
   "id": "9de65cc6",
   "metadata": {},
   "outputs": [],
   "source": [
    "# or, or disjunction, evaluates to True whenever at least one involved boolean value is True\n",
    "print(True or True)\n",
    "print(True or False)\n",
    "print(False or False)"
   ]
  },
  {
   "cell_type": "code",
   "execution_count": null,
   "id": "70566e35",
   "metadata": {},
   "outputs": [],
   "source": [
    "# All the non-zero numbers are treated as True\n",
    "print(bool(1 and True))\n",
    "print(bool(0 and True))"
   ]
  },
  {
   "cell_type": "code",
   "execution_count": null,
   "id": "8e9ec347",
   "metadata": {},
   "outputs": [],
   "source": [
    "# All non-empty strings, even if the string is all whitespaces, are treated as True\n",
    "print(bool(True and \"\"))\n",
    "print(bool(True and \"    \"))\n",
    "print(bool(True and \"False\"))"
   ]
  },
  {
   "cell_type": "markdown",
   "id": "1bfa672f",
   "metadata": {},
   "source": [
    "We will use boolean values much more extensively when we encounter control flow and if statements."
   ]
  },
  {
   "cell_type": "markdown",
   "id": "c712fbff",
   "metadata": {},
   "source": [
    "#### 1.1.3 Variables"
   ]
  },
  {
   "cell_type": "code",
   "execution_count": null,
   "id": "292e44ff",
   "metadata": {},
   "outputs": [],
   "source": [
    "# Python automatically figures out what type your variables are\n",
    "# Once the cell is ran, the variables are made available everywhere else in the notebook\n",
    "\n",
    "x = 4\n",
    "y = 5"
   ]
  },
  {
   "cell_type": "code",
   "execution_count": null,
   "id": "0af44f8f",
   "metadata": {},
   "outputs": [],
   "source": [
    "# We can do arithmetic with those variables in another cell\n",
    "4*x + 5*y"
   ]
  },
  {
   "cell_type": "code",
   "execution_count": null,
   "id": "f742b279",
   "metadata": {},
   "outputs": [],
   "source": [
    "# There are some shorthands for updating variables\n",
    "# Instead of x = x + 2\n",
    "# We can simply do:\n",
    "\n",
    "x += 2\n",
    "x\n",
    "\n",
    "# You can do the same for -, *, and /"
   ]
  },
  {
   "cell_type": "code",
   "execution_count": null,
   "id": "096fd9bb",
   "metadata": {},
   "outputs": [],
   "source": [
    "# In Python, snake case is the norm for multi-word variable names\n",
    "\n",
    "michigan_data_science_club_abbreviation = \"MROBOSUB\""
   ]
  },
  {
   "cell_type": "code",
   "execution_count": null,
   "id": "20161395",
   "metadata": {},
   "outputs": [],
   "source": [
    "# The values stored inside the variables can be overwritten later by referring back to the variable name\n",
    "# Python allows changing the data type of the variable when it is overwritten\n",
    "\n",
    "x = \"like\"\n",
    "y = \" so\"\n",
    "\n",
    "x + y"
   ]
  },
  {
   "cell_type": "markdown",
   "id": "6a094bac",
   "metadata": {},
   "source": [
    "### 1.2 Container"
   ]
  },
  {
   "cell_type": "markdown",
   "id": "8582c966",
   "metadata": {},
   "source": [
    "#### 1.2.0 List"
   ]
  },
  {
   "cell_type": "code",
   "execution_count": null,
   "id": "ecb48a1a",
   "metadata": {},
   "outputs": [],
   "source": [
    "# You can create (aka initialize) an empty list with the square brackets\n",
    "empty_list = []\n",
    "\n",
    "# or with the list() command\n",
    "another_empty_list = list()"
   ]
  },
  {
   "cell_type": "code",
   "execution_count": null,
   "id": "5b0ed0f9",
   "metadata": {},
   "outputs": [],
   "source": [
    "# Or you can create lists by listing the elements it should contain\n",
    "nonempty_list = [32, 'MROBOSUB', True]"
   ]
  },
  {
   "cell_type": "markdown",
   "id": "9a6e6c56",
   "metadata": {},
   "source": [
    "Once a list is created, you can retrieve elements inside with its index.\n",
    "\n",
    "Python uses 0-indexing, meaning the first element is on index 0. "
   ]
  },
  {
   "cell_type": "code",
   "execution_count": null,
   "id": "4b5153ff",
   "metadata": {},
   "outputs": [],
   "source": [
    "# Retrieve an element by putting its index in a square bracket after the list's name\n",
    "nonempty_list[1]"
   ]
  },
  {
   "cell_type": "code",
   "execution_count": null,
   "id": "e106158f",
   "metadata": {},
   "outputs": [],
   "source": [
    "# This works similarly for strings\n",
    "mdst = \"MROBOSUB\"\n",
    "mdst[2]"
   ]
  },
  {
   "cell_type": "code",
   "execution_count": null,
   "id": "5ebf8bac",
   "metadata": {},
   "outputs": [],
   "source": [
    "# You can chain indices as well\n",
    "nonempty_list[1][2]"
   ]
  },
  {
   "cell_type": "markdown",
   "id": "a22d982c",
   "metadata": {},
   "source": [
    "Negative numbers index from the end. Think of it as -1 wrapping around to the last element in the list. -2 is then the second last element in the list etc."
   ]
  },
  {
   "cell_type": "code",
   "execution_count": null,
   "id": "9b058b81",
   "metadata": {},
   "outputs": [],
   "source": [
    "nonempty_list[-2]"
   ]
  },
  {
   "cell_type": "markdown",
   "id": "1b8309c1",
   "metadata": {},
   "source": [
    "Be careful to not use an index that doesn't exist in a list. Python won't know what to do and will throw an error."
   ]
  },
  {
   "cell_type": "code",
   "execution_count": null,
   "id": "67d09353",
   "metadata": {},
   "outputs": [],
   "source": [
    "# Getting the first element in an empty list doesn't make sense.\n",
    "\n",
    "print(empty_list[0])"
   ]
  },
  {
   "cell_type": "code",
   "execution_count": null,
   "id": "718baa29",
   "metadata": {},
   "outputs": [],
   "source": [
    "# Neither does finding the fifth element in a three-element list\n",
    "\n",
    "print(nonempty_list[4])"
   ]
  },
  {
   "cell_type": "markdown",
   "id": "238be8a2",
   "metadata": {},
   "source": [
    "You can use indexing to get subarrays/substrings.\n",
    "\n",
    "syntax: [start:end:step]\n",
    "\n",
    "The subarray will include the start index (inclusive) but not the end (exclusive)."
   ]
  },
  {
   "cell_type": "code",
   "execution_count": null,
   "id": "195520a6",
   "metadata": {},
   "outputs": [],
   "source": [
    "sample_list = [0, 1, 2, 3 , 4, 5, 6, 7, 8, 9, 10]"
   ]
  },
  {
   "cell_type": "code",
   "execution_count": null,
   "id": "f47f30ad",
   "metadata": {},
   "outputs": [],
   "source": [
    "# Getting the fourth to eighth element\n",
    "# If you don't specify the step, Python assumes you want every element in the range\n",
    "\n",
    "sample_list[3:8]"
   ]
  },
  {
   "cell_type": "code",
   "execution_count": null,
   "id": "77dc795f",
   "metadata": {},
   "outputs": [],
   "source": [
    "# When end is not specified, Python includes everything including and after the start index\n",
    "sample_list[5:]"
   ]
  },
  {
   "cell_type": "code",
   "execution_count": null,
   "id": "903f281d",
   "metadata": {},
   "outputs": [],
   "source": [
    "# Similarly, when start is not specified, Python includes everything before the end index but excludes the end index itself\n",
    "sample_list[:-5]"
   ]
  },
  {
   "cell_type": "code",
   "execution_count": null,
   "id": "8c40bc7c",
   "metadata": {},
   "outputs": [],
   "source": [
    "# When neither start nor end is specified, Python applies the step argument to the entire list\n",
    "# step = 2 means to take 2 steps forward each time an element is selected. In other words, it selects every other element\n",
    "\n",
    "sample_list[::2]"
   ]
  },
  {
   "cell_type": "code",
   "execution_count": null,
   "id": "f13ce7fd",
   "metadata": {},
   "outputs": [],
   "source": [
    "# A neat trick for reversing a list, try to understand what it's doing\n",
    "sample_list[::-1]"
   ]
  },
  {
   "cell_type": "markdown",
   "id": "c8c130ff",
   "metadata": {},
   "source": [
    "You can add element to an existing list ..."
   ]
  },
  {
   "cell_type": "code",
   "execution_count": null,
   "id": "8ffefd9a",
   "metadata": {},
   "outputs": [],
   "source": [
    "# at the end ...\n",
    "sample_list.append(11)\n",
    "\n",
    "# or somewhere in the middle\n",
    "# syntax: insert(index, new_value)\n",
    "sample_list.insert(1, 0.5)\n",
    "\n",
    "print(sample_list)"
   ]
  },
  {
   "cell_type": "markdown",
   "id": "620b3895",
   "metadata": {},
   "source": [
    "or remove an element ..."
   ]
  },
  {
   "cell_type": "code",
   "execution_count": null,
   "id": "d747339d",
   "metadata": {},
   "outputs": [],
   "source": [
    "# remove the first instance of a given value in the list\n",
    "sample_list.remove(0.5)\n",
    "\n",
    "# or remove the element on a specified index\n",
    "sample_list.pop(0)\n",
    "\n",
    "sample_list"
   ]
  },
  {
   "cell_type": "markdown",
   "id": "24505f95",
   "metadata": {},
   "source": [
    "or change an element using its index ..."
   ]
  },
  {
   "cell_type": "code",
   "execution_count": null,
   "id": "ad8ccf28",
   "metadata": {},
   "outputs": [],
   "source": [
    "sample_list[-1] = 12\n",
    "sample_list"
   ]
  },
  {
   "cell_type": "markdown",
   "id": "921903cf",
   "metadata": {},
   "source": [
    "or many other things ...\n",
    "\n",
    "See the full range of possibility [here](https://www.w3schools.com/python/python_ref_list.asp)."
   ]
  },
  {
   "cell_type": "markdown",
   "id": "10388496",
   "metadata": {},
   "source": [
    "If you thought typing out every number from 0 to 10 was an inefficient way of creating a list, you will be glad to learn about the `range()` function. \n",
    "\n",
    "Syntax: `range(start (inclusive), end (exclusive), step)`\n",
    "\n",
    "Pro tip: if you only specify `end`, Python will give you every integer from 0 up to the one before `end`."
   ]
  },
  {
   "cell_type": "code",
   "execution_count": null,
   "id": "0a40b1b3",
   "metadata": {},
   "outputs": [],
   "source": [
    "# let's recreate the list of numbers from 0 to 10 using range()\n",
    "# The output of range()'s type is range, not list. We need to convert it with list()\n",
    "sample_list = list(range(11))\n",
    "sample_list"
   ]
  },
  {
   "cell_type": "markdown",
   "id": "d1ab6c80",
   "metadata": {},
   "source": [
    "##### 1.2.1 Tuple"
   ]
  },
  {
   "cell_type": "markdown",
   "id": "b431f045",
   "metadata": {},
   "source": [
    "Python tuples are list-like data structures with one important difference."
   ]
  },
  {
   "cell_type": "code",
   "execution_count": null,
   "id": "c6bbb4dc",
   "metadata": {},
   "outputs": [],
   "source": [
    "# You can create them with parenthesis\n",
    "\n",
    "empty_tuple = tuple()\n",
    "\n",
    "sample_tuple = (1, 2, 3, 4)\n",
    "\n",
    "print(empty_tuple, sample_tuple)"
   ]
  },
  {
   "cell_type": "markdown",
   "id": "3f96fbef",
   "metadata": {},
   "source": [
    "Indexing tuples is just like indexing lists"
   ]
  },
  {
   "cell_type": "code",
   "execution_count": null,
   "id": "3c4176a2",
   "metadata": {},
   "outputs": [],
   "source": [
    "print(sample_tuple[1], sample_tuple[-3])"
   ]
  },
  {
   "cell_type": "markdown",
   "id": "6e0a3d10",
   "metadata": {},
   "source": [
    "Crucially, tuples can NOT be modified once created. \n",
    "\n",
    "Tuples are *immutable*. While this property makes them less versatile than lists, it sometimes come in handy. For example, tuples can be used as keys in dictionaries (next section). "
   ]
  },
  {
   "cell_type": "code",
   "execution_count": null,
   "id": "5cc86dea",
   "metadata": {},
   "outputs": [],
   "source": [
    "# try to overwrite an item in a tuple\n",
    "\n",
    "try:\n",
    "    sample_tuple[-1] = 10\n",
    "except TypeError as e:\n",
    "    print(e)"
   ]
  },
  {
   "cell_type": "markdown",
   "id": "5035893b",
   "metadata": {},
   "source": [
    "##### 1.2.2 Dictionary"
   ]
  },
  {
   "cell_type": "markdown",
   "id": "822fb9d6",
   "metadata": {},
   "source": [
    "Dictionary is a way to store pairs of values, known as keys and values, with some associations to each other."
   ]
  },
  {
   "cell_type": "code",
   "execution_count": null,
   "id": "258c8955",
   "metadata": {},
   "outputs": [],
   "source": [
    "# You can create an empty dictionary in two ways\n",
    "empty_dict1 = dict()\n",
    "empty_dict2 = {}\n",
    "\n",
    "print(empty_dict1, empty_dict2)"
   ]
  },
  {
   "cell_type": "code",
   "execution_count": null,
   "id": "eb64176e",
   "metadata": {},
   "outputs": [],
   "source": [
    "# You can also create dictionaries by specifying the key:value pairs\n",
    "panda_express_pricing = {\"Bowl\":5.80, \"Plate\":6.80, \"Bigger Plate\":8.30}"
   ]
  },
  {
   "cell_type": "markdown",
   "id": "a7fa1588",
   "metadata": {},
   "source": [
    "You index a dictionary with a key and gets its associated value."
   ]
  },
  {
   "cell_type": "code",
   "execution_count": null,
   "id": "b72360c2",
   "metadata": {},
   "outputs": [],
   "source": [
    "bowl_price = panda_express_pricing[\"Bowl\"]\n",
    "bowl_price"
   ]
  },
  {
   "cell_type": "markdown",
   "id": "4034993f",
   "metadata": {},
   "source": [
    "Be careful to not index a key that doesn't exist in the dictionary because that will cause an error.\n",
    "\n",
    "If you are not sure whether a key is in the dictionary or not, use the [get](https://www.w3schools.com/python/ref_dictionary_get.asp) method to be safe."
   ]
  },
  {
   "cell_type": "code",
   "execution_count": null,
   "id": "0e468a01",
   "metadata": {},
   "outputs": [],
   "source": [
    "# try to eat buffet at Panda express\n",
    "buffet_price = panda_express_pricing[\"Buffet\"]"
   ]
  },
  {
   "cell_type": "markdown",
   "id": "015c4f76",
   "metadata": {},
   "source": [
    "It follows that you can change the value associated with a key."
   ]
  },
  {
   "cell_type": "code",
   "execution_count": null,
   "id": "b9e24a91",
   "metadata": {},
   "outputs": [],
   "source": [
    "# let's say Panda Express has a sale on the bowls\n",
    "panda_express_pricing[\"Bowl\"] = 5.00\n",
    "bowl_price = panda_express_pricing[\"Bowl\"]\n",
    "bowl_price"
   ]
  },
  {
   "cell_type": "markdown",
   "id": "67673812",
   "metadata": {},
   "source": [
    "There is, however, no easy way to modify the key associated with a value."
   ]
  },
  {
   "cell_type": "code",
   "execution_count": null,
   "id": "530037e8",
   "metadata": {},
   "outputs": [],
   "source": [
    "# You can see a list of all the keys in a dictionary\n",
    "panda_express_pricing.keys()"
   ]
  },
  {
   "cell_type": "code",
   "execution_count": null,
   "id": "adde978b",
   "metadata": {},
   "outputs": [],
   "source": [
    "# Or a list of all values\n",
    "panda_express_pricing.values()"
   ]
  },
  {
   "cell_type": "code",
   "execution_count": null,
   "id": "5559fbef",
   "metadata": {},
   "outputs": [],
   "source": [
    "# Or a list of key value pairs, represented as tuples\n",
    "panda_express_pricing.items()"
   ]
  },
  {
   "cell_type": "markdown",
   "id": "ebaf7cd1",
   "metadata": {},
   "source": [
    "See everything you can do with dictionaries [here](https://www.w3schools.com/python/python_ref_dictionary.asp)."
   ]
  },
  {
   "cell_type": "markdown",
   "id": "a41d4a10",
   "metadata": {},
   "source": [
    "##### 1.2.3 Set"
   ]
  },
  {
   "cell_type": "markdown",
   "id": "2ed49630",
   "metadata": {},
   "source": [
    "Sets store unique elements."
   ]
  },
  {
   "cell_type": "code",
   "execution_count": null,
   "id": "fb010fc2",
   "metadata": {},
   "outputs": [],
   "source": [
    "# You can only create sets with set(); (), [], {} are all taken\n",
    "\n",
    "s = set([1,2,3,1,2,3])\n",
    "s"
   ]
  },
  {
   "cell_type": "code",
   "execution_count": null,
   "id": "e472b737",
   "metadata": {},
   "outputs": [],
   "source": [
    "# Add new elements to a set\n",
    "s.add(3)\n",
    "s.add(4)\n",
    "s"
   ]
  },
  {
   "cell_type": "code",
   "execution_count": null,
   "id": "25d612a5",
   "metadata": {},
   "outputs": [],
   "source": [
    "# Remove elements in the set \n",
    "s.discard(1)\n",
    "s.discard(2)"
   ]
  },
  {
   "cell_type": "markdown",
   "id": "3381ea75",
   "metadata": {},
   "source": [
    "There are many set operations that can be performed between two sets. We will not go into them here. You can see a list on this [page](https://www.w3schools.com/python/python_ref_set.asp)."
   ]
  },
  {
   "cell_type": "markdown",
   "id": "6323fc2e",
   "metadata": {},
   "source": [
    "#### 1.2.4 Container Utilities"
   ]
  },
  {
   "cell_type": "markdown",
   "id": "7989dbb0",
   "metadata": {},
   "source": [
    "You can use `len()` to find the number of items in each of the above four containers."
   ]
  },
  {
   "cell_type": "code",
   "execution_count": null,
   "id": "fb1fea55",
   "metadata": {},
   "outputs": [],
   "source": [
    "l = [1,2,3]\n",
    "t = (1,2,3)\n",
    "d = {1:'a', 2:'b', 3:'c'}\n",
    "s = set([1, 2, 3])\n",
    "\n",
    "print(len(l), len(t), len(d), len(s))"
   ]
  },
  {
   "cell_type": "markdown",
   "id": "82b2f356",
   "metadata": {},
   "source": [
    "And use the `in` keyword to check if an element is in the container or not.\n",
    "\n",
    "For dictionaries, you can only use this to check whether a key is in the dictionary or not."
   ]
  },
  {
   "cell_type": "code",
   "execution_count": null,
   "id": "7668522e",
   "metadata": {},
   "outputs": [],
   "source": [
    "print(1 in l)\n",
    "print(4 in t)\n",
    "print(2 in d)\n",
    "print(0 in s)"
   ]
  },
  {
   "cell_type": "markdown",
   "id": "3226d349",
   "metadata": {},
   "source": [
    "## 2. Control Flow"
   ]
  },
  {
   "cell_type": "markdown",
   "id": "c6e10fd0",
   "metadata": {},
   "source": [
    "You can use `if` statements to execute different actions in different scenarios.\n",
    "\n",
    "Before we dive in, a quick aside on comparing numbers:\n",
    "- Use `==` to check equality\n",
    "- Use `!=` to check inequality\n",
    "- Use `<`, `>`, `>=`, and `<=` to compare two numbers"
   ]
  },
  {
   "cell_type": "code",
   "execution_count": null,
   "id": "84f02d24",
   "metadata": {},
   "outputs": [],
   "source": [
    "# Here is the general idea of if statements\n",
    "# if (condition evalutes to true):\n",
    "#   execute code here\n",
    "\n",
    "to_print_or_not_to_print = True\n",
    "\n",
    "if to_print_or_not_to_print:\n",
    "    # Most code editors will automatically indent the lines inside an if statement for you \n",
    "    # It doesn't matter whether you use tabs or spaces to indent or how much you indent (two or four spaces are common)\n",
    "    # Just be consistent! Your code will not work without consistent indentation!\n",
    "    \n",
    "    print(\"The first block of code is executed\")\n",
    "\n",
    "to_print_or_not_to_print = False\n",
    "\n",
    "if to_print_or_not_to_print:\n",
    "    print(\"The second block of code is executed\")\n"
   ]
  },
  {
   "cell_type": "markdown",
   "id": "5b9e23bd",
   "metadata": {},
   "source": [
    "We can use more complex conditions for `if` statements."
   ]
  },
  {
   "cell_type": "code",
   "execution_count": null,
   "id": "e9d5f022",
   "metadata": {},
   "outputs": [],
   "source": [
    "if 4 < 5 and 6 >= 6 and len(list(range(3))) == 3:\n",
    "    print(\"The first block of code is executed\")\n",
    "\n",
    "if 4 != 4 or 6 > 7 or -1 < 0:\n",
    "    print(\"The second block of code is executed\")"
   ]
  },
  {
   "cell_type": "markdown",
   "id": "27ab9d43",
   "metadata": {},
   "source": [
    "An `if ... else` scheme can handle both when the condition is true and false."
   ]
  },
  {
   "cell_type": "code",
   "execution_count": null,
   "id": "7f839e88",
   "metadata": {},
   "outputs": [],
   "source": [
    "to_print_or_not_to_print = True\n",
    "\n",
    "if to_print_or_not_to_print:\n",
    "    # indented\n",
    "    print(\"printing\")\n",
    "# unindented\n",
    "else:\n",
    "    # indented\n",
    "    print(\"not printing\")\n",
    "\n",
    "to_print_or_not_to_print = False\n",
    "\n",
    "if to_print_or_not_to_print:\n",
    "    print(\"printing\")\n",
    "else:\n",
    "    print(\"not printing\")"
   ]
  },
  {
   "cell_type": "markdown",
   "id": "98ee08bf",
   "metadata": {},
   "source": [
    "`if ... elif ... else` schemes can handle many different scenarios.\n",
    "\n",
    "You can have `elif` without `else` but all `elif` must appear before `else`."
   ]
  },
  {
   "cell_type": "code",
   "execution_count": null,
   "id": "ea411852",
   "metadata": {},
   "outputs": [],
   "source": [
    "uniqname = \"ENTER YOUR UNIQNAME HERE\"\n",
    "\n",
    "if len(uniqname) <= 4:\n",
    "    print(\"Short\")\n",
    "elif len(uniqname) < 8:\n",
    "    print(\"Medium\")\n",
    "else: \n",
    "    print(\"Long\")"
   ]
  },
  {
   "cell_type": "markdown",
   "id": "9afce1b3",
   "metadata": {},
   "source": [
    "## 3. Iterating"
   ]
  },
  {
   "cell_type": "markdown",
   "id": "d6868bee",
   "metadata": {},
   "source": [
    "### 3.0 For Loops"
   ]
  },
  {
   "cell_type": "markdown",
   "id": "d290e797",
   "metadata": {},
   "source": [
    "Lists, tuples, sets, dictionaries, strings, and ranges are all *iterables*. That just means we can move through them in a certain order.\n",
    "\n",
    "This property is useful for simplifying repeated actions. "
   ]
  },
  {
   "cell_type": "markdown",
   "id": "e8ca3fa6",
   "metadata": {},
   "source": [
    "Say we have a list of numbers and we want to print each of them, doubled. \n",
    "\n",
    "We can use the index to access, multiply, and print each of them but that's inefficient.\n",
    "\n",
    "For loops to the rescue."
   ]
  },
  {
   "cell_type": "code",
   "execution_count": null,
   "id": "b8877533",
   "metadata": {},
   "outputs": [],
   "source": [
    "nums = list(range(5))\n",
    "\n",
    "for num in nums: \n",
    "    print(num*2)\n"
   ]
  },
  {
   "cell_type": "code",
   "execution_count": null,
   "id": "45a56682",
   "metadata": {},
   "outputs": [],
   "source": [
    "# What is actually going on here?\n",
    "#\n",
    "# in nums specifies the iterable to go through, nums in this case\n",
    "# num is what is called an iterator. i, j, and k are common iterator names but num makes more sense here\n",
    "#\n",
    "# for num in nums: \n",
    "#     indent!\n",
    "#     num is set to an element in the nums list and the action is executed\n",
    "#     print(num*2)\n",
    "#     num is set to the next element in the nums list\n",
    "#\n",
    "# in this case, we iterated through the elements of the list"
   ]
  },
  {
   "cell_type": "code",
   "execution_count": null,
   "id": "89179c05",
   "metadata": {},
   "outputs": [],
   "source": [
    "# Another common pattern is to iterate through the indices \n",
    "# let's print out the indices that has an even number on them\n",
    "\n",
    "for i in range(len(nums)):\n",
    "    # range(len(nums)) gives all the indices in the nums list\n",
    "    # nums has 5 elements so range(len(nums)) looks like 0, 1, 2, 3, 4\n",
    "    # you will see this all the time in for loops\n",
    "\n",
    "    if nums[i] % 2 == 0:\n",
    "        print(i)"
   ]
  },
  {
   "cell_type": "markdown",
   "id": "9d6f7ea5",
   "metadata": {},
   "source": [
    "One more example: \n",
    "\n",
    "Make a new list containing the items in nums squared.\n"
   ]
  },
  {
   "cell_type": "code",
   "execution_count": null,
   "id": "a1ad69a4",
   "metadata": {},
   "outputs": [],
   "source": [
    "squared_nums = []\n",
    "\n",
    "for num in nums:\n",
    "    squared_nums.append(num ** 2)\n",
    "\n",
    "squared_nums"
   ]
  },
  {
   "cell_type": "markdown",
   "id": "a7f1ac93",
   "metadata": {},
   "source": [
    "Sometimes it is useful to iterate through both the element and index at the same time. \n",
    "\n",
    "Look into [`enumerate`](https://realpython.com/python-enumerate/)."
   ]
  },
  {
   "cell_type": "markdown",
   "id": "431f3c72",
   "metadata": {},
   "source": [
    "## 4. Functions"
   ]
  },
  {
   "cell_type": "markdown",
   "id": "2c6d37bb",
   "metadata": {},
   "source": [
    "### 4.0 Import & Library"
   ]
  },
  {
   "cell_type": "markdown",
   "id": "824f3b7d",
   "metadata": {},
   "source": [
    "Libraries (aka packages) are codes that other people have developed for you to use. Python has tons of cool and interesting libraries.\n",
    "\n",
    "You can start using them in your notebooks with the `import` key word."
   ]
  },
  {
   "cell_type": "code",
   "execution_count": null,
   "id": "0db346b5",
   "metadata": {},
   "outputs": [],
   "source": [
    "# There is always a relevant xkcd \n",
    "\n",
    "import antigravity"
   ]
  },
  {
   "cell_type": "markdown",
   "id": "3d9a22c2",
   "metadata": {},
   "source": [
    "Most libraries are more elaborate and contain many functionalities."
   ]
  },
  {
   "cell_type": "code",
   "execution_count": null,
   "id": "91ce7f83",
   "metadata": {},
   "outputs": [],
   "source": [
    "# Once a library is imported, you can start using the functions and methods they have\n",
    "import random\n",
    "random.randint(1, 10)"
   ]
  },
  {
   "cell_type": "code",
   "execution_count": null,
   "id": "fa5b33c3-bcde-4a21-aee8-8878053a36aa",
   "metadata": {},
   "outputs": [],
   "source": [
    "# If you know what function you need, you can also import it specifically\n",
    "from random import randint\n",
    "\n",
    "# If you do it this way, you can use randint directly instead of typing out random.randint()\n",
    "\n",
    "randint(1, 10)"
   ]
  },
  {
   "cell_type": "code",
   "execution_count": null,
   "id": "166e6540-6c0b-4a6d-a14d-33cb9301da1a",
   "metadata": {},
   "outputs": [],
   "source": [
    "# If you know what function you need, you can also import it specifically\n",
    "from random import randint\n",
    "\n",
    "# If you do it this way, you can use randint directly instead of typing out random.randint()\n",
    "\n",
    "randint(1, 10)"
   ]
  },
  {
   "cell_type": "code",
   "execution_count": null,
   "id": "736a561d-a8d1-4701-a43c-0154509f702f",
   "metadata": {},
   "outputs": [],
   "source": [
    "# Sometimes function or library names are very long \n",
    "# You can use the as key word to rename imports\n",
    "\n",
    "from random import randrange as r \n",
    "\n",
    "r(1, 10)"
   ]
  },
  {
   "cell_type": "markdown",
   "id": "20b0a1b0-bc56-4198-b9e1-3f8af91af374",
   "metadata": {},
   "source": [
    "### 4.1 Built-in Function"
   ]
  },
  {
   "cell_type": "markdown",
   "id": "d840b0f2-1592-4790-8735-5404786d76c4",
   "metadata": {},
   "source": [
    "We present some more built-in functions that may be useful for completing the checkpoints.\n",
    "\n",
    "You can find documentation for all of them [here](https://docs.python.org/3/library/functions.html)."
   ]
  },
  {
   "cell_type": "code",
   "execution_count": null,
   "id": "bfad5117-ed61-4862-981b-253f11a71655",
   "metadata": {},
   "outputs": [],
   "source": [
    "max([3,4,5])"
   ]
  },
  {
   "cell_type": "code",
   "execution_count": null,
   "id": "33e9a54c-4791-471b-996c-653acfcb90c6",
   "metadata": {},
   "outputs": [],
   "source": [
    "min([-3,3,9])"
   ]
  },
  {
   "cell_type": "code",
   "execution_count": null,
   "id": "5c75eae4-8768-4a51-a8ec-4ef80a32e29d",
   "metadata": {},
   "outputs": [],
   "source": [
    "sum([1,3,5])"
   ]
  },
  {
   "cell_type": "code",
   "execution_count": null,
   "id": "d433f2ae-bcde-4a8b-8044-1e59262ecded",
   "metadata": {},
   "outputs": [],
   "source": [
    "round(3.8)"
   ]
  },
  {
   "cell_type": "code",
   "execution_count": null,
   "id": "29e2f30c-fd6a-49b1-9d09-2fa03a5eb16c",
   "metadata": {},
   "outputs": [],
   "source": [
    "round(3.36394, 3)"
   ]
  },
  {
   "cell_type": "code",
   "execution_count": null,
   "id": "a591005b-8361-4a74-a161-ab08485105a3",
   "metadata": {},
   "outputs": [],
   "source": [
    "abs(-3)"
   ]
  },
  {
   "cell_type": "markdown",
   "id": "bb2caa0e-2426-4e24-aef1-ef063d75ddc8",
   "metadata": {},
   "source": [
    "### 4.2 Custom Function"
   ]
  },
  {
   "cell_type": "markdown",
   "id": "299f0693-f2d5-4ca7-b79a-91b96bb7e20b",
   "metadata": {},
   "source": [
    "Functions are great ways to reduce code duplication and repetition.\n",
    "\n",
    "Functions can be used to carry out specific actions. We will slowly build up to a function that outputs custom greeting messages."
   ]
  },
  {
   "cell_type": "markdown",
   "id": "caa0d797-4118-4947-9cba-9a95f17495f3",
   "metadata": {},
   "source": [
    "Let's start by having the function just print \"Hi\"."
   ]
  },
  {
   "cell_type": "code",
   "execution_count": null,
   "id": "0cf8d86c-0986-42fd-aef1-a5498dfb57f9",
   "metadata": {},
   "outputs": [],
   "source": [
    "# The first line in a function is the function header. It starts with the def key word, followed by the function name\n",
    "def greet():\n",
    "    # Indent!\n",
    "    print(\"Hi\")\n",
    "\n",
    "greet()"
   ]
  },
  {
   "cell_type": "markdown",
   "id": "0b5ff14e-fdef-42d4-812a-fce6cf9460e9",
   "metadata": {},
   "source": [
    "Not exactly a custom message. It would be nice if we can greet people by their names."
   ]
  },
  {
   "cell_type": "code",
   "execution_count": null,
   "id": "863167c8-86a3-4d1d-aae0-041d12e647d0",
   "metadata": {},
   "outputs": [],
   "source": [
    "# We can shape a function's behavior by adding arguments. These appear in the parenthesis after the function name.\n",
    "# Note: the name on this line names an argument to the greet function\n",
    "def greet(name):\n",
    "    print(\"Hi \" + name)\n",
    "\n",
    "name = \"ENTER YOUR NAME HERE\"\n",
    "\n",
    "# Note: the name on this line refers to the name variable\n",
    "greet(name)"
   ]
  },
  {
   "cell_type": "markdown",
   "id": "0495bfb7-94bc-412f-818d-70682d6cac52",
   "metadata": {},
   "source": [
    "Maybe you are excited to see the person, in which case some exclamation marks are in order. \n",
    "\n",
    "Usually, 1 is good. "
   ]
  },
  {
   "cell_type": "code",
   "execution_count": null,
   "id": "35236da4-465e-4df9-b492-c220cb2e521a",
   "metadata": {},
   "outputs": [],
   "source": [
    "# You can set default values for arguments. The function will use those defaults if the argument is not provided.\n",
    "# On the contrary, arguments without default values have to be specified\n",
    "def greet(name, num_exclamation=1):\n",
    "    print(\"Hi \" + name + '!'*num_exclamation)\n",
    "\n",
    "greet(name)"
   ]
  },
  {
   "cell_type": "code",
   "execution_count": null,
   "id": "d7a4d42c-1eab-48ad-830a-38e1e1360313",
   "metadata": {},
   "outputs": [],
   "source": [
    "# You can of course use different values for all your default arguments.\n",
    "# Python will try to match arguments using the order listed in the header\n",
    "greet(name, 3)\n",
    "\n",
    "# or you can mix up the order by referring to the arguments by their names\n",
    "greet(num_exclamation=2, name=name)"
   ]
  },
  {
   "cell_type": "markdown",
   "id": "63890376-f17f-45f8-9346-3e39a9e684d2",
   "metadata": {},
   "source": [
    "Functions don't have to interface with users directly. They can also be used to perform computations and return the results."
   ]
  },
  {
   "cell_type": "code",
   "execution_count": null,
   "id": "44d0ad78-2767-4438-8d73-571181eb66a2",
   "metadata": {},
   "outputs": [],
   "source": [
    "def round_to_hundreds(num):\n",
    "    rounded = round(num / 100) * 100\n",
    "\n",
    "print(round_to_hundreds(168))"
   ]
  },
  {
   "cell_type": "markdown",
   "id": "b25be24b-4c3e-4f16-9111-53b5f582bb1c",
   "metadata": {},
   "source": [
    "Weird, we expected 2 but received `None`. \n",
    "\n",
    "This is because we forgot to get the function to make its output available for other parts of the program to use.\n",
    "\n",
    "In its current state, the output of the function (`rounded`) is inaccessible.\n",
    "\n",
    "This is where `return` comes into play."
   ]
  },
  {
   "cell_type": "code",
   "execution_count": null,
   "id": "38a5b884-67eb-4f4a-9ab3-da58f785facb",
   "metadata": {},
   "outputs": [],
   "source": [
    "def round_to_hundreds(num):\n",
    "    rounded = round(num / 100) * 100\n",
    "\n",
    "    # returning is making the output available for other codes\n",
    "    return rounded\n",
    "\n",
    "print(round_to_hundreds(168))"
   ]
  },
  {
   "cell_type": "markdown",
   "id": "f28c084c-c1af-4be9-9b2b-4062f82502e4",
   "metadata": {},
   "source": [
    "### 4.3 Lambda Function "
   ]
  },
  {
   "cell_type": "markdown",
   "id": "7a21711d-b160-465e-87f3-bf7409c74cc2",
   "metadata": {},
   "source": [
    "Lambda function is a shorthand way to write simple functions. It is useful in many context but you will find it a great help when you are performing data transformation. A little note for new members for MRobosub we use lambda a lot in our code. Understanding how to read these will make your onboarding easier."
   ]
  },
  {
   "cell_type": "code",
   "execution_count": null,
   "id": "bbcc44f5-19e6-4cfd-827d-9a91dd81fa1b",
   "metadata": {},
   "outputs": [],
   "source": [
    "# Let's define a function that applies or to two boolean values and return the opposite of that result \n",
    "def or_reverse(bool1, bool2):\n",
    "    return not (bool1 or bool2)\n",
    "\n",
    "or_reverse(True, False)"
   ]
  },
  {
   "cell_type": "code",
   "execution_count": null,
   "id": "32e09389-b636-4ef0-80e4-dae6d10540c9",
   "metadata": {},
   "outputs": [],
   "source": [
    "# This is how the same function will look in lambda notation \n",
    "lambda_or_reverse = lambda bool1, bool2: not (bool1 or bool2)\n",
    "\n",
    "lambda_or_reverse(True, False)"
   ]
  },
  {
   "cell_type": "markdown",
   "id": "ebdf326d-79d3-449a-896f-0db3fcb68706",
   "metadata": {},
   "source": [
    "### 4.4 Type Hinting \n",
    "\n",
    "Type hinting allows you to indicate the expected data types of variables, function arguments, and return values.\n",
    "\n",
    "They are optional annotations that makes Python easier to read and debug; type hinting is especially nice for keeping track of data types as your codebase gets larger. Note for MRobosub we also use this a lot to keep track of variables because Python variables are dynamic unlike C++ variables where they are predeclared."
   ]
  },
  {
   "cell_type": "code",
   "execution_count": null,
   "id": "d26d8242-ee79-429f-a252-25388fa28b3e",
   "metadata": {},
   "outputs": [],
   "source": [
    "# These two variable assignments are equivalent:\n",
    "name = \"deckard\"\n",
    "name: str = \"deckard\"  # type hinted declaration (var_name: var_type)\n",
    "\n",
    "# Python is a dynamically typed language; it does not require the type of a variable to be declared, and a variable's type can change during runtime\n",
    "name = 26354\n",
    "print(type(name))  # <class 'int'>\n",
    "\n",
    "# Type hinting for functions follows a similar format. \"-> None\" indicates that there isn't anything to return\n",
    "def greet(name: str, num_exclamation: int = 1) -> None:\n",
    "    print(\"Hi \" + str(name) + '!'*num_exclamation)\n",
    "\n",
    "# For flexability, Python doesn't actually require passed argument types to match their respective annotated types \n",
    "greet(name)\n",
    "\n",
    "# This line, however, causes a TypeError inside of the function due to an unexpected type mismatch\n",
    "# greet(name, 1.00) "
   ]
  },
  {
   "cell_type": "code",
   "execution_count": null,
   "id": "baff277b-b64e-4886-b315-4b3d1ca2a664",
   "metadata": {},
   "outputs": [],
   "source": [
    "# the typing library can be used for more specific type hinting\n",
    "from typing import Any, Union, Optional, Callable\n",
    "\n",
    "\n",
    "# Container types can be annotated using square brackets\n",
    "list_of_ints: list[int] = [1, 2, 3]\n",
    "tuple_of_stuff: tuple[Any, Any] = (4.0, [5])\n",
    "\n",
    "\n",
    "# Union[] or | specify that a variable can be one of multiple specific types\n",
    "X_1: Union[int, float, bool] = 1.982\n",
    "X_2: Union[int, float, bool] = 61021\n",
    "X_3: int|float|bool = False\n",
    "\n",
    "# Optional[] specifies that a variable can also be None\n",
    "delivery_charge: Optional[int|float] = 3.99"
   ]
  },
  {
   "cell_type": "code",
   "execution_count": null,
   "id": "8996b70d-d51a-4f9e-b88c-212f11ba3fc8",
   "metadata": {},
   "outputs": [],
   "source": [
    "# This function returns a (int, float) tuple\n",
    "def cottage_inn_order(n_students: int, delivery_charge: Optional[int|float] = None) -> tuple[int, float]:\n",
    "    n_pizzas = (n_students // 32) + 1\n",
    "    subtotal = n_pizzas * 34.98\n",
    "\n",
    "    if delivery_charge is not None:\n",
    "        subtotal += delivery_charge\n",
    "\n",
    "    return n_pizzas, subtotal * 1.06\n",
    "\n",
    "# We can tell at a glance that this function expects a (int, float) tuple as input\n",
    "def print_pizza(info: tuple[int, float]) -> None: \n",
    "    print(info[0], \" pizzas, costing $\", round(info[1], 2), sep=\"\")\n",
    "\n",
    "print_pizza(cottage_inn_order(n_students = 150))\n",
    "\n",
    "# Callable specifies arguments that are functions, for precise hinting you can use Callable[[arg_types], return_type]\n",
    "def print_pizza(\n",
    "    n_students: int, \n",
    "    order_func: Callable = cottage_inn_order,\n",
    "    delivery_charge: Optional[int|float] = None\n",
    ") -> None: \n",
    "    info = order_func(n_students, delivery_charge)\n",
    "    print(info[0], \" pizzas, costing $\", round(info[1], 2), sep=\"\")\n",
    "\n",
    "print_pizza(150)"
   ]
  },
  {
   "cell_type": "markdown",
   "id": "7c397ec2-57ca-4626-9b92-5a05e857e178",
   "metadata": {},
   "source": [
    "## 5. Numpy"
   ]
  },
  {
   "cell_type": "markdown",
   "id": "281b4895-dc4a-4802-b0c5-774deb96c6e7",
   "metadata": {},
   "source": [
    "Numpy is short for *numerical python*, a library built for optimized operations on large arrays and matrices. "
   ]
  },
  {
   "cell_type": "code",
   "execution_count": null,
   "id": "e5bb7b36-927b-4226-8e65-204a909b7e23",
   "metadata": {},
   "outputs": [],
   "source": [
    "import numpy as np"
   ]
  },
  {
   "cell_type": "markdown",
   "id": "4bfa45c8-2cbd-4c42-9993-dbd9aded3511",
   "metadata": {},
   "source": [
    "### 5.0 Array"
   ]
  },
  {
   "cell_type": "markdown",
   "id": "1a9831b9-e714-44ac-8fb4-c34a6059f870",
   "metadata": {},
   "source": [
    "Numpy arrays can be created from a Python list."
   ]
  },
  {
   "cell_type": "code",
   "execution_count": null,
   "id": "41ab8597-fd85-427e-bbc2-469b94ab18c7",
   "metadata": {},
   "outputs": [],
   "source": [
    "a = [1,2,3,4,5,6]\n",
    "b = np.array(a)\n",
    "b"
   ]
  },
  {
   "cell_type": "markdown",
   "id": "f33a492f-15f2-49a9-a738-c90cec4746de",
   "metadata": {},
   "source": [
    "Right now, it looks an awful like a python list, but there are some key differences you should be aware of.\n",
    "\n",
    "Numpy arrays are:\n",
    "- homogeneous (all elements in an array have the same type)\n",
    "- multidimensional"
   ]
  },
  {
   "cell_type": "code",
   "execution_count": null,
   "id": "fc3b8fb0-f050-4fcb-9067-f157e83abf01",
   "metadata": {},
   "outputs": [],
   "source": [
    "# Homogeneous: all numpy arrays have an associated data type\n",
    "# numbers are usually ints or floats\n",
    "b.dtype"
   ]
  },
  {
   "cell_type": "code",
   "execution_count": null,
   "id": "37e25efa-e9d6-4b6e-b607-2b7d1321dd2a",
   "metadata": {},
   "outputs": [],
   "source": [
    "# Multidimensional: numpy arrays can have arbitrarily many dimensions\n",
    "# We can reshape b into a 3x2 matrix. This means 3 rows and 2 columns\n",
    "# Note: this doesn't change b. That's why we assign it to a new variable: m\n",
    "m = b.reshape(3, 2)\n",
    "m"
   ]
  },
  {
   "cell_type": "code",
   "execution_count": null,
   "id": "863d0aad-de0c-4b83-a919-4e340ade1d98",
   "metadata": {},
   "outputs": [],
   "source": [
    "# Each dimension is called an axis\n",
    "# The size across each axis is called the shape\n",
    "# These are two very important concepts!\n",
    "m.shape"
   ]
  },
  {
   "cell_type": "code",
   "execution_count": null,
   "id": "06f1881b-d2e2-462e-91eb-751f86ccb850",
   "metadata": {},
   "outputs": [],
   "source": [
    "# One numpy function worth highlighting is transpose \n",
    "# Essentially, the first row becomes the first column, the second row becomes the second column etc.\n",
    "\n",
    "m = m.transpose()\n",
    "m"
   ]
  },
  {
   "cell_type": "markdown",
   "id": "9df3e8e4-db8c-4324-9ee4-5144d00a0044",
   "metadata": {},
   "source": [
    "### 5.1 Math"
   ]
  },
  {
   "cell_type": "markdown",
   "id": "81a25291-aa3e-4234-b119-33e204cb4e2c",
   "metadata": {},
   "source": [
    "Numpy gives us a lot of math functions to work with. You can find them all in the [documentation](https://numpy.org/doc/stable/reference/routines.math.html)."
   ]
  },
  {
   "cell_type": "code",
   "execution_count": null,
   "id": "f49c4c04-59de-4528-85a3-482d3bf85f12",
   "metadata": {},
   "outputs": [],
   "source": [
    "np.sum(b)"
   ]
  },
  {
   "cell_type": "code",
   "execution_count": null,
   "id": "dfd1cf91-9295-4576-8c42-4d1def6ce3bd",
   "metadata": {},
   "outputs": [],
   "source": [
    "np.mean(b)"
   ]
  },
  {
   "cell_type": "code",
   "execution_count": null,
   "id": "9629cc34-b3a5-4488-a47d-640d65269adb",
   "metadata": {},
   "outputs": [],
   "source": [
    "# for convenience, you can also call\n",
    "b.mean()"
   ]
  },
  {
   "cell_type": "markdown",
   "id": "264d6e59-3660-4fc6-a40a-79082829b6d0",
   "metadata": {},
   "source": [
    "You can also apply these functions by axis.\n",
    "\n",
    "In general, `axis=0` means to operate by rows and `axis=1` means to operate by columns."
   ]
  },
  {
   "cell_type": "code",
   "execution_count": null,
   "id": "c5b91c63-8020-4f87-84dc-3e7b72adc769",
   "metadata": {},
   "outputs": [],
   "source": [
    "# summing by rows\n",
    "print(np.sum(m, axis=0))\n",
    "\n",
    "# summing by columns \n",
    "print(np.sum(m, axis=1))\n"
   ]
  },
  {
   "cell_type": "code",
   "execution_count": null,
   "id": "b2eb305b-1429-439c-93d1-d957d7871023",
   "metadata": {},
   "outputs": [],
   "source": [
    "# Unlike a regular list, you can do arithmetic on numpy arrays directly\n",
    "# In most cases, numpy will apply the arithmetic operations to each element\n",
    "\n",
    "print(m*3)\n",
    "print(m+3)\n",
    "print(np.power(m,2))"
   ]
  },
  {
   "cell_type": "markdown",
   "id": "28205cd3-0ac1-49c7-ac71-6637f8dbbe29",
   "metadata": {},
   "source": [
    "## 6. Python Classes and Objects"
   ]
  },
  {
   "cell_type": "markdown",
   "id": "c7e9272b-ce36-4617-8999-e9dcf911a6be",
   "metadata": {},
   "source": [
    "Python is an object oriented programming language.\n",
    "\r\n",
    "Almost everything in Python is an object, with its properties and method.\r\n",
    "\r\n",
    "A Class is like an object constructor, or a \"blueprint\" for creating objects."
   ]
  },
  {
   "cell_type": "markdown",
   "id": "b0691d06-0b52-4883-963a-e6ffb16e4137",
   "metadata": {},
   "source": [
    "### 6.0 Create a Class\n"
   ]
  },
  {
   "cell_type": "markdown",
   "id": "f53a091d-a20a-4734-bfe1-47083bc4f198",
   "metadata": {},
   "source": [
    "###### To create a class, use the keyword `class`"
   ]
  },
  {
   "cell_type": "code",
   "execution_count": null,
   "id": "328ca24f-33e2-4da5-b15f-b1aff34c00ce",
   "metadata": {},
   "outputs": [],
   "source": [
    "class MyClass:\n",
    "  x = 5"
   ]
  },
  {
   "cell_type": "markdown",
   "id": "a68e2516-0cdc-43d9-8e96-ceceb3bd07c9",
   "metadata": {},
   "source": [
    "### 6.1 Create a Object"
   ]
  },
  {
   "cell_type": "markdown",
   "id": "7ba11a19-f80c-40c4-aa16-10097ae4e81b",
   "metadata": {},
   "source": [
    "Now we can use the class named MyClass to create objects:\r\n"
   ]
  },
  {
   "cell_type": "code",
   "execution_count": null,
   "id": "76c834f2-2ee2-4cf4-b834-4ff57004c721",
   "metadata": {},
   "outputs": [],
   "source": [
    "p1 = MyClass()\n",
    "print(p1.x)"
   ]
  },
  {
   "cell_type": "markdown",
   "id": "207c238f-5029-4efb-a1e4-5cf4639cd718",
   "metadata": {},
   "source": [
    "### 6.2 The init() Function"
   ]
  },
  {
   "cell_type": "markdown",
   "id": "46f6c677-0fa1-4950-a76d-32c4d7914ce5",
   "metadata": {},
   "source": [
    "The examples above are classes and objects in their simplest form, and are not really useful in real life applications.\r\n",
    "\r\n",
    "To understand the meaning of classes we have to understand the built-in __init__() function.\r\n",
    "\r\n",
    "All classes have a function called __init__(), which is always executed when the class is being initiated.\r\n",
    "\r\n",
    "Use the __init__() function to assign values to object properties, or other operations that are necessary to do when the object is being created:eated:"
   ]
  },
  {
   "cell_type": "code",
   "execution_count": null,
   "id": "87760d75-7fea-4a33-8cf2-1f2fea7d578e",
   "metadata": {},
   "outputs": [],
   "source": [
    "class Person:\n",
    "  def __init__(self, name, age):\n",
    "    self.name = name\n",
    "    self.age = age\n",
    "\n",
    "p1 = Person(\"John\", 36)\n",
    "\n",
    "print(p1.name)\n",
    "print(p1.age)"
   ]
  },
  {
   "cell_type": "markdown",
   "id": "02e4df3d-5036-430b-a1c1-2108a0a25879",
   "metadata": {},
   "source": [
    "### 6.3 Object Methods"
   ]
  },
  {
   "cell_type": "markdown",
   "id": "e7484603-3f0c-4fe9-a72b-d9c28b1f2525",
   "metadata": {},
   "source": [
    "Objects can also contain methods. Methods in objects are functions that belong to the object.\n",
    "\n",
    "Let us create a method in the Person class:\n"
   ]
  },
  {
   "cell_type": "code",
   "execution_count": null,
   "id": "3a691816-b9f4-4bae-bbc5-51c4b2e4013a",
   "metadata": {},
   "outputs": [],
   "source": [
    "class Person:\n",
    "  def __init__(self, name, age):\n",
    "    self.name = name\n",
    "    self.age = age\n",
    "\n",
    "  def myfunc(self):\n",
    "    print(\"Hello my name is \" + self.name)\n",
    "\n",
    "p1 = Person(\"John\", 36)\n",
    "p1.myfunc()"
   ]
  },
  {
   "cell_type": "markdown",
   "id": "40f39e92-ff21-4161-828e-ab10cba1a960",
   "metadata": {},
   "source": [
    "### 6.4 The `self` Parameter"
   ]
  },
  {
   "cell_type": "markdown",
   "id": "3b5b153f-e5f7-43e0-9a93-b33d450b76e4",
   "metadata": {},
   "source": [
    "The `self` parameter is a reference to the current instance of the class, and is used to access variables that belongs to the class.\n",
    "\n",
    "It does not have to be named `self` , you can call it whatever you like, but it has to be the first parameter of any function in the class:"
   ]
  },
  {
   "cell_type": "markdown",
   "id": "d50b6d27-ef07-492d-aba7-8b6a9f864870",
   "metadata": {},
   "source": [
    "The words mysillyobject and abc instead of self"
   ]
  },
  {
   "cell_type": "code",
   "execution_count": null,
   "id": "4c9ade0a-2332-446a-a728-eac6c358427f",
   "metadata": {},
   "outputs": [],
   "source": [
    "class Person:\n",
    "  def __init__(mysillyobject, name, age):\n",
    "    mysillyobject.name = name\n",
    "    mysillyobject.age = age\n",
    "\n",
    "  def myfunc(abc):\n",
    "    print(\"Hello my name is \" + abc.name)\n",
    "\n",
    "p1 = Person(\"John\", 36)\n",
    "p1.myfunc()"
   ]
  },
  {
   "cell_type": "markdown",
   "id": "66e95ff3-5b8e-4602-9ba5-a4268012a45b",
   "metadata": {},
   "source": [
    "### 6.5 Modify and Delete"
   ]
  },
  {
   "cell_type": "markdown",
   "id": "6ef0e2da-1fd4-4ff9-ba05-78ec1dbbb95d",
   "metadata": {},
   "source": [
    "You can modify properties on objects like this:"
   ]
  },
  {
   "cell_type": "code",
   "execution_count": null,
   "id": "6899caef-70e9-4ff7-8dd8-f88055f0a1dc",
   "metadata": {},
   "outputs": [],
   "source": [
    "p1.age = 40"
   ]
  },
  {
   "cell_type": "markdown",
   "id": "276a9157-66df-40bc-a100-336b9b8a15c4",
   "metadata": {},
   "source": [
    "You can delete properties on objects by using the del keyword:\n",
    "\n"
   ]
  },
  {
   "cell_type": "code",
   "execution_count": null,
   "id": "a55eb565-86b0-4d78-bd16-519da0d343ec",
   "metadata": {},
   "outputs": [],
   "source": [
    "del p1.age"
   ]
  },
  {
   "cell_type": "markdown",
   "id": "6d08492b-e61a-44fc-9652-7053b8cfd1f3",
   "metadata": {},
   "source": [
    "### 6.6 The `pass` Statement"
   ]
  },
  {
   "cell_type": "markdown",
   "id": "81a58b05-3000-460b-842f-1927e3ff33f7",
   "metadata": {},
   "source": [
    "class definitions cannot be empty, but if you for some reason have a class definition with no content, put in the pass statement to avoid getting an error.\n",
    "\n"
   ]
  },
  {
   "cell_type": "code",
   "execution_count": null,
   "id": "305b2d4c-34ce-4ba8-925b-3a1bebc82f68",
   "metadata": {},
   "outputs": [],
   "source": [
    "class Person:\n",
    "  pass"
   ]
  }
 ],
 "metadata": {
  "kernelspec": {
   "display_name": "Python 3 (ipykernel)",
   "language": "python",
   "name": "python3"
  },
  "language_info": {
   "codemirror_mode": {
    "name": "ipython",
    "version": 3
   },
   "file_extension": ".py",
   "mimetype": "text/x-python",
   "name": "python",
   "nbconvert_exporter": "python",
   "pygments_lexer": "ipython3",
   "version": "3.10.12"
  }
 },
 "nbformat": 4,
 "nbformat_minor": 5
}
